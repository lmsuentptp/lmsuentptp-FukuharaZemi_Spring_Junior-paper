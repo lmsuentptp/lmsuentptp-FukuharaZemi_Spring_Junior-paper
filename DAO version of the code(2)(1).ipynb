{
 "cells": [
  {
   "cell_type": "code",
   "execution_count": 1,
   "id": "a8da4a68",
   "metadata": {},
   "outputs": [],
   "source": [
    "import numpy as np\n",
    "from itertools import combinations, product"
   ]
  },
  {
   "cell_type": "code",
   "execution_count": 2,
   "id": "e592e8a3",
   "metadata": {},
   "outputs": [],
   "source": [
    "    #Payoff component simplification\n",
    "\n",
    "#free_ride_PG_benefit = np.sqrt((N - 1) * c * p_buyNFT) / N   \n",
    "#contribution_PG_benefit = np.sqrt((N - 1) * c * p_buyNFT + c) / N   \n",
    "#impact_benefit = np.sqrt(np.sqrt((N-1) * c * p_buyNFT + c) - np.sqrt((N-1) * c * p_buyNFT))\n",
    "#contribution = c\n",
    "#Human_Cap_return = d\n",
    "\n",
    "    #Return on NFT\n",
    "    \n",
    "#term1_nft = CF/(1+delta)\n",
    "#term2_nft = (1 + (1 / (1 + delta)))*(((p_buyFT + p_buyNFT - p_buyFT * p_buyNFT) * N1 * r + DCF * (1 + delta) * V1)/((1 + delta) * S1 * V1))\n",
    "#term3_nft = (lambdav*(S1 - p_buyNFT * N1 * p_success * Theta))/((1 + delta) * p_buyFT * N1)\n",
    "#term4_nft = (P0/(1+delta))\n",
    "#Return_NFT = p_success(term1_nft + Theta*(term2_nft - term3_nft -term4_nft))\n",
    "\n",
    "    #Return on FT\n",
    "\n",
    "#term1_FT = ((((p_buyFT + p_buyNFT - p_buyFT * p_buyNFT) * N1 * r + DCF * (1 + delta) * V1)/(lambdav*(1 + delta) * S1 * V1)) - (P0/lambdav))\n",
    "#term2_FT = (((p_buyFT + p_buyNFT - p_buyFT * p_buyNFT) * N1 * r * (3+delta) + DCF * (1 + delta) * V1 * (3+delta))/(2*((1 + delta)**2) * S1 * V1))\n",
    "#term3_FT = ((lambdav * (S1 - p_buyNFT * N1 * p_success * Theta)) / ((1 + delta) * p_buyFT * N1)) - ((P0 * (3 + delta)) / (2 * (1 + delta)))\n",
    "#Return_FT = term1_FT*(term2_FT + term3_FT)"
   ]
  },
  {
   "cell_type": "code",
   "execution_count": 3,
   "id": "f883d3a8",
   "metadata": {},
   "outputs": [],
   "source": [
    "#Variable Description: \n",
    "\n",
    "# Number of participants = N\n",
    "\n",
    "# Contribution = c\n",
    "\n",
    "# Probability of buying NFT = p_buyNFT\n",
    "\n",
    "# Human capital return = d\n",
    "\n",
    "# Cash flow (for NFT) = CF\n",
    "\n",
    "# Discount rate = delta\n",
    "\n",
    "# Probability of buying FT = p_buyFT\n",
    "\n",
    "# Number of NFT buyers = N1\n",
    "\n",
    "# Return rate = r\n",
    "\n",
    "# Discounted cash flow value = DCF\n",
    "\n",
    "# Value of tokens = V1\n",
    "\n",
    "# Initial stock of tokens = S1\n",
    "\n",
    "# Lambdav = don't know exactly but related to pricing\n",
    "\n",
    "# Initial price = P0\n",
    "\n",
    "# Theta value = Theta\n",
    "\n",
    "# Probability of success = p_success\n"
   ]
  },
  {
   "cell_type": "code",
   "execution_count": 4,
   "id": "fcc8b351",
   "metadata": {},
   "outputs": [],
   "source": [
    "def s1payoff(N, c, p_buyNFT):\n",
    "    free_ride_PG_benefit = np.sqrt((N - 1) * c * p_buyNFT) / N\n",
    "    return free_ride_PG_benefit\n",
    "\n",
    "def s2payoff(N, c, p_buyNFT, d, CF, delta, p_buyFT, r, DCF, V1, S1, lambdav, P0, Theta, p_success):\n",
    "    contribution_PG_benefit = np.sqrt((N - 1) * c * p_buyNFT + c) / N\n",
    "    impact_benefit = np.sqrt(np.sqrt((N - 1) * c * p_buyNFT + c) - np.sqrt((N - 1) * c * p_buyNFT))\n",
    "    contribution = c\n",
    "    Human_Cap_return = d\n",
    "\n",
    "    term1_nft = CF / (1 + delta)\n",
    "    term2_nft = (1 + (1 / (1 + delta))) * (((p_buyFT + p_buyNFT - p_buyFT * p_buyNFT) * N * r + DCF * (1 + delta) * V1) / ((1 + delta) * S1 * V1))\n",
    "    term3_nft = (lambdav * (S1 - p_buyNFT * N * p_success * Theta)) / ((1 + delta) * p_buyFT * N + 0.000000001)\n",
    "    term4_nft = P0 / (1 + delta)\n",
    "    Return_NFT = p_success * (term1_nft + Theta * (term2_nft - term3_nft - term4_nft))\n",
    "\n",
    "    return contribution_PG_benefit + impact_benefit - contribution + Human_Cap_return + Return_NFT\n",
    "\n",
    "def s3payoff(N, c, p_buyNFT, d, p_buyFT, r, DCF, V1, S1, lambdav, P0, Theta, p_success, delta):\n",
    "    free_ride_PG_benefit = np.sqrt((N - 1) * c * p_buyNFT) / N\n",
    "    Human_Cap_return = d\n",
    "\n",
    "    term1_FT = (((p_buyFT + p_buyNFT - p_buyFT * p_buyNFT) * N * r + DCF * (1 + delta) * V1) / (lambdav * (1 + delta) * S1 * V1)) - (P0 / lambdav)\n",
    "    term2_FT = (((p_buyFT + p_buyNFT - p_buyFT * p_buyNFT) * N * r * (3 + delta) + DCF * (1 + delta) * V1 * (3 + delta)) / (2 * ((1 + delta) ** 2) * S1 * V1))\n",
    "    term3_FT = ((lambdav * (S1 - p_buyNFT * N * p_success * Theta)) / ((1 + delta) * p_buyFT * N + 0.000000001)) - ((P0 * (3 + delta)) / (2 * (1 + delta)))\n",
    "    Return_FT = term1_FT * (term2_FT + term3_FT)\n",
    "\n",
    "    return free_ride_PG_benefit + Human_Cap_return + Return_FT\n",
    "\n",
    "def s4payoff(N, c, p_buyNFT, d, CF, delta, p_buyFT, r, DCF, V1, S1, lambdav, P0, Theta, p_success):\n",
    "    contribution_PG_benefit = np.sqrt((N - 1) * c * p_buyNFT + c) / N\n",
    "    impact_benefit = np.sqrt(np.sqrt((N - 1) * c * p_buyNFT + c) - np.sqrt((N - 1) * c * p_buyNFT))\n",
    "    contribution = c\n",
    "    Human_Cap_return = d\n",
    "\n",
    "    term1_nft = CF / (1 + delta)\n",
    "    term2_nft = (1 + (1 / (1 + delta))) * (((p_buyFT + p_buyNFT - p_buyFT * p_buyNFT) * N * r + DCF * (1 + delta) * V1) / ((1 + delta) * S1 * V1))\n",
    "    term3_nft = (lambdav * (S1 - p_buyNFT * N * p_success * Theta)) / ((1 + delta) * p_buyFT * N + 0.000000001)\n",
    "    term4_nft = P0 / (1 + delta)\n",
    "    Return_NFT = p_success * (term1_nft + Theta * (term2_nft - term3_nft - term4_nft))\n",
    "\n",
    "    term1_FT = (((p_buyFT + p_buyNFT - p_buyFT * p_buyNFT) * N * r + DCF * (1 + delta) * V1) / (lambdav * (1 + delta) * S1 * V1)) - (P0 / lambdav)\n",
    "    term2_FT = (((p_buyFT + p_buyNFT - p_buyFT * p_buyNFT) * N * r * (3 + delta) + DCF * (1 + delta) * V1 * (3 + delta)) / (2 * ((1 + delta) ** 2) * S1 * V1))\n",
    "    term3_FT = ((lambdav * (S1 - p_buyNFT * N * p_success * Theta)) / ((1 + delta) * p_buyFT * N + 0.000000001)) - ((P0 * (3 + delta)) / (2 * (1 + delta)))\n",
    "    Return_FT = term1_FT * (term2_FT + term3_FT)\n",
    "\n",
    "    return contribution_PG_benefit + impact_benefit - contribution + Human_Cap_return + Return_NFT + Return_FT"
   ]
  },
  {
   "cell_type": "code",
   "execution_count": 5,
   "id": "59e27a9c",
   "metadata": {},
   "outputs": [],
   "source": [
    "possible_ps2 = [i/100 for i in range(0, 100, 1)]\n",
    "possible_ps3 = [i/100 for i in range(0, 100, 1)]\n",
    "possible_ps4 = [i/100 for i in range(0, 100, 1)]"
   ]
  },
  {
   "cell_type": "code",
   "execution_count": 6,
   "id": "622e0a95",
   "metadata": {},
   "outputs": [],
   "source": [
    "combinations = []\n",
    "\n",
    "for probs2 in possible_ps2:\n",
    "    for probs3 in possible_ps3:\n",
    "        for probs4 in possible_ps4:\n",
    "            if probs2 + probs3 + probs4 <= 1:\n",
    "                combinations.append([probs2, probs3, probs4])"
   ]
  },
  {
   "cell_type": "code",
   "execution_count": 7,
   "id": "23d479f4",
   "metadata": {},
   "outputs": [
    {
     "data": {
      "text/plain": [
       "176842"
      ]
     },
     "execution_count": 7,
     "metadata": {},
     "output_type": "execute_result"
    }
   ],
   "source": [
    "len(combinations)"
   ]
  },
  {
   "cell_type": "code",
   "execution_count": 8,
   "id": "6860d8f6",
   "metadata": {},
   "outputs": [],
   "source": [
    "#parameters = [S1, Theta, P1, p_success] "
   ]
  },
  {
   "cell_type": "code",
   "execution_count": 9,
   "id": "067546be",
   "metadata": {},
   "outputs": [],
   "source": [
    "possible_supply = [50, 100, 150, 200]\n",
    "possible_theta = [2, 4, 8, 10]\n",
    "possible_p0 = [5, 10, 15, 20]\n",
    "possible_p_success = [0, 0.25, 0.5, 0.7]"
   ]
  },
  {
   "cell_type": "code",
   "execution_count": 10,
   "id": "ed6872b8",
   "metadata": {},
   "outputs": [
    {
     "data": {
      "text/plain": [
       "256"
      ]
     },
     "execution_count": 10,
     "metadata": {},
     "output_type": "execute_result"
    }
   ],
   "source": [
    "params = []\n",
    "for i in product(possible_supply, possible_theta, possible_p0, possible_p_success):\n",
    "    params.append(i)\n",
    "len(params)"
   ]
  },
  {
   "cell_type": "code",
   "execution_count": 11,
   "id": "f348101d",
   "metadata": {},
   "outputs": [],
   "source": [
    "# Indice Slicing Code\n",
    "sample_combination = combinations[2:9]"
   ]
  },
  {
   "cell_type": "code",
   "execution_count": 12,
   "id": "0b489597",
   "metadata": {},
   "outputs": [
    {
     "name": "stdout",
     "output_type": "stream",
     "text": [
      "[[0.0, 0.0, 0.02], [0.0, 0.0, 0.03], [0.0, 0.0, 0.04], [0.0, 0.0, 0.05], [0.0, 0.0, 0.06], [0.0, 0.0, 0.07], [0.0, 0.0, 0.08]]\n"
     ]
    }
   ],
   "source": [
    "print(sample_combination)"
   ]
  },
  {
   "cell_type": "code",
   "execution_count": null,
   "id": "5f2ef4fc",
   "metadata": {},
   "outputs": [
    {
     "name": "stderr",
     "output_type": "stream",
     "text": [
      "C:\\Users\\wrqib\\AppData\\Local\\Temp\\ipykernel_66164\\4202784426.py:2: RuntimeWarning: invalid value encountered in sqrt\n",
      "  free_ride_PG_benefit = np.sqrt((N - 1) * c * p_buyNFT) / N\n",
      "C:\\Users\\wrqib\\AppData\\Local\\Temp\\ipykernel_66164\\4202784426.py:6: RuntimeWarning: invalid value encountered in sqrt\n",
      "  contribution_PG_benefit = np.sqrt((N - 1) * c * p_buyNFT + c) / N\n",
      "C:\\Users\\wrqib\\AppData\\Local\\Temp\\ipykernel_66164\\4202784426.py:7: RuntimeWarning: invalid value encountered in sqrt\n",
      "  impact_benefit = np.sqrt(np.sqrt((N - 1) * c * p_buyNFT + c) - np.sqrt((N - 1) * c * p_buyNFT))\n",
      "C:\\Users\\wrqib\\AppData\\Local\\Temp\\ipykernel_66164\\4202784426.py:20: RuntimeWarning: invalid value encountered in sqrt\n",
      "  free_ride_PG_benefit = np.sqrt((N - 1) * c * p_buyNFT) / N\n",
      "C:\\Users\\wrqib\\AppData\\Local\\Temp\\ipykernel_66164\\4202784426.py:31: RuntimeWarning: invalid value encountered in sqrt\n",
      "  contribution_PG_benefit = np.sqrt((N - 1) * c * p_buyNFT + c) / N\n",
      "C:\\Users\\wrqib\\AppData\\Local\\Temp\\ipykernel_66164\\4202784426.py:32: RuntimeWarning: invalid value encountered in sqrt\n",
      "  impact_benefit = np.sqrt(np.sqrt((N - 1) * c * p_buyNFT + c) - np.sqrt((N - 1) * c * p_buyNFT))\n"
     ]
    }
   ],
   "source": [
    "equilibrium = dict()\n",
    "count = 0\n",
    "for N in range(2): \n",
    "    for combination in combinations: \n",
    "        for param in params: \n",
    "            p_buyNFT = param[0] + param[2]\n",
    "            p_buyFT = param[1] + param[2]\n",
    "            \n",
    "            # Additional necessary parameters for payoff functions\n",
    "            c = 1  # Cost parameter, example value\n",
    "            d = 5   # Human capital return, example value\n",
    "            CF = 1  # Cash flow parameter, example value\n",
    "            delta = 0.05  # Discount factor, example value\n",
    "            r = 0.03  # Interest rate, example value\n",
    "            DCF = 1  # Discounted cash flow, example value\n",
    "            V1 = 20  # Value parameter for type 1, example value\n",
    "            lambdav = 0.1  # Lambda value, example value\n",
    "\n",
    "            \n",
    "            s1payoff_val = s1payoff(N, c, p_buyNFT)\n",
    "            s2payoff_val = s2payoff(N, c, p_buyNFT, d, CF, delta, p_buyFT, r, DCF, V1, param[0], lambdav, param[2], param[1], param[3])\n",
    "            s3payoff_val = s3payoff(N, c, p_buyNFT, d, p_buyFT, r, DCF, V1, param[0], lambdav, param[2], param[1], param[3], delta)\n",
    "            s4payoff_val = s4payoff(N, c, p_buyNFT, d, CF, delta, p_buyFT, r, DCF, V1, param[0], lambdav, param[2], param[1], param[3])\n",
    "\n",
    "\n",
    "            if s1payoff_val == s2payoff_val == s3payoff_val == s4payoff_val:\n",
    "                equilibrium[N] = (p_buyNFT, p_buyFT)\n",
    "                break\n",
    "        count += 1\n",
    "\n",
    "if count%1000 == 0:\n",
    "    print(count)"
   ]
  },
  {
   "cell_type": "code",
   "execution_count": null,
   "id": "e42bf144",
   "metadata": {},
   "outputs": [],
   "source": [
    "equilibrium"
   ]
  },
  {
   "cell_type": "code",
   "execution_count": null,
   "id": "ed520ede",
   "metadata": {},
   "outputs": [],
   "source": []
  }
 ],
 "metadata": {
  "kernelspec": {
   "display_name": "Python 3 (ipykernel)",
   "language": "python",
   "name": "python3"
  },
  "language_info": {
   "codemirror_mode": {
    "name": "ipython",
    "version": 3
   },
   "file_extension": ".py",
   "mimetype": "text/x-python",
   "name": "python",
   "nbconvert_exporter": "python",
   "pygments_lexer": "ipython3",
   "version": "3.11.7"
  },
  "vscode": {
   "interpreter": {
    "hash": "aee8b7b246df8f9039afb4144a1f6fd8d2ca17a180786b69acc140d282b71a49"
   }
  }
 },
 "nbformat": 4,
 "nbformat_minor": 5
}
